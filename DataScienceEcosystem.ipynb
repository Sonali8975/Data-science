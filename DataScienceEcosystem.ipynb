{
 "cells": [
  {
   "cell_type": "markdown",
   "id": "c855d57f",
   "metadata": {},
   "source": [
    "# Data Science Tools and Ecosystem\n"
   ]
  },
  {
   "cell_type": "markdown",
   "id": "82c7a403",
   "metadata": {},
   "source": [
    "# In this notebook, Data Science Tools and Ecosystem are summarized."
   ]
  },
  {
   "cell_type": "markdown",
   "id": "4e95e7ef",
   "metadata": {},
   "source": [
    "# Some of the popular languages that Data Scientists use are:\n",
    "1. Python\n",
    "2. R\n",
    "3. SQL\n",
    "4. Java"
   ]
  },
  {
   "cell_type": "markdown",
   "id": "89cf7b91",
   "metadata": {},
   "source": [
    "# Some of the commonly used libraries used by Data Scientists include:\n",
    "1. **Pandas** (for data manipulation and analysis)\n",
    "2. **NumPy** (for numerical computing)\n",
    "3. **Matplotlib** (for data visualization)\n",
    "4. **Seaborn** (for statistical data visualization)\n",
    "5. **Scikit-learn** (for machine learning)\n",
    "6. **TensorFlow** (for deep learning)"
   ]
  },
  {
   "cell_type": "markdown",
   "id": "2a11d3bd",
   "metadata": {},
   "source": [
    "| Data Science Tools |\n",
    "|--------------------|\n",
    "| Jupyter Notebook   |\n",
    "| RStudio            |\n",
    "| VS Code            |\n"
   ]
  },
  {
   "cell_type": "markdown",
   "id": "6387c830",
   "metadata": {},
   "source": [
    "### Below are a few examples of evaluating arithmetic expressions in Python.\n",
    "- **Addition**: `5 + 3` results in `8`\n",
    "- **Subtraction**: `10 - 4` results in `6`\n",
    "- **Multiplication**: `7 * 6` results in `42`\n",
    "- **Division**: `8 / 2` results in `4`\n"
   ]
  },
  {
   "cell_type": "code",
   "execution_count": 2,
   "id": "6dba20bf",
   "metadata": {},
   "outputs": [
    {
     "data": {
      "text/plain": [
       "17"
      ]
     },
     "execution_count": 2,
     "metadata": {},
     "output_type": "execute_result"
    }
   ],
   "source": [
    "# This a simple arithmetic expression to mutiply then add integers\n",
    "(3*4)+5"
   ]
  },
  {
   "cell_type": "code",
   "execution_count": 5,
   "id": "a331cb24",
   "metadata": {},
   "outputs": [
    {
     "data": {
      "text/plain": [
       "3.3333333333333335"
      ]
     },
     "execution_count": 5,
     "metadata": {},
     "output_type": "execute_result"
    }
   ],
   "source": [
    "#  This will convert 200 minutes to hours by diving by 60\n",
    "minutes = 200\n",
    "hours = minutes / 60\n",
    "hours"
   ]
  },
  {
   "cell_type": "markdown",
   "id": "3016832c",
   "metadata": {},
   "source": [
    "**Objectives:**\n",
    "\n",
    "- Learn how to create and display markdown tables.\n",
    "- Understand basic arithmetic expressions and their usage.\n",
    "- Explore popular languages for Data Science (e.g., Python, R).\n",
    "- Discover open-source tools commonly used for Data Science (e.g., Jupyter, RStudio).\n"
   ]
  },
  {
   "cell_type": "markdown",
   "id": "bd6d3812",
   "metadata": {},
   "source": [
    "## Author\n",
    "\n",
    "Sonali Sangle\n"
   ]
  },
  {
   "cell_type": "code",
   "execution_count": null,
   "id": "8707f91d",
   "metadata": {},
   "outputs": [],
   "source": []
  },
  {
   "cell_type": "code",
   "execution_count": null,
   "id": "adf1c178",
   "metadata": {},
   "outputs": [],
   "source": []
  }
 ],
 "metadata": {
  "kernelspec": {
   "display_name": "Python 3 (ipykernel)",
   "language": "python",
   "name": "python3"
  },
  "language_info": {
   "codemirror_mode": {
    "name": "ipython",
    "version": 3
   },
   "file_extension": ".py",
   "mimetype": "text/x-python",
   "name": "python",
   "nbconvert_exporter": "python",
   "pygments_lexer": "ipython3",
   "version": "3.11.1"
  }
 },
 "nbformat": 4,
 "nbformat_minor": 5
}
